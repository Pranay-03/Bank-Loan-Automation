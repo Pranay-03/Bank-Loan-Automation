{
 "cells": [
  {
   "cell_type": "markdown",
   "id": "boolean-survivor",
   "metadata": {
    "id": "3Itwi8HW-9P6",
    "papermill": {
     "duration": 0.030028,
     "end_time": "2021-10-24T06:10:32.364864",
     "exception": false,
     "start_time": "2021-10-24T06:10:32.334836",
     "status": "completed"
    },
    "tags": []
   },
   "source": [
    "**Importing dependencies and libraries**"
   ]
  },
  {
   "cell_type": "markdown",
   "id": "reflected-boating",
   "metadata": {
    "papermill": {
     "duration": 0.027576,
     "end_time": "2021-10-24T06:10:32.421038",
     "exception": false,
     "start_time": "2021-10-24T06:10:32.393462",
     "status": "completed"
    },
    "tags": []
   },
   "source": [
    "Aim: To predict if a person is eligible for a loan or not, using the various features in the dataset"
   ]
  },
  {
   "cell_type": "code",
   "execution_count": 2,
   "id": "relevant-locking",
   "metadata": {},
   "outputs": [
    {
     "name": "stdout",
     "output_type": "stream",
     "text": [
      "Collecting seaborn\n",
      "  Downloading seaborn-0.11.2-py3-none-any.whl (292 kB)\n",
      "Collecting numpy>=1.15\n",
      "  Downloading numpy-1.19.5-cp36-cp36m-win_amd64.whl (13.2 MB)\n",
      "Requirement already satisfied: scipy>=1.0 in c:\\users\\arige\\anaconda3\\envs\\crop_pred\\lib\\site-packages (from seaborn) (1.2.1)\n",
      "Requirement already satisfied: matplotlib>=2.2 in c:\\users\\arige\\anaconda3\\envs\\crop_pred\\lib\\site-packages (from seaborn) (3.1.1)\n",
      "Requirement already satisfied: pandas>=0.23 in c:\\users\\arige\\anaconda3\\envs\\crop_pred\\lib\\site-packages (from seaborn) (0.25.3)\n",
      "Requirement already satisfied: cycler>=0.10 in c:\\users\\arige\\anaconda3\\envs\\crop_pred\\lib\\site-packages (from matplotlib>=2.2->seaborn) (0.10.0)\n",
      "Requirement already satisfied: kiwisolver>=1.0.1 in c:\\users\\arige\\anaconda3\\envs\\crop_pred\\lib\\site-packages (from matplotlib>=2.2->seaborn) (1.3.1)\n",
      "Requirement already satisfied: pyparsing!=2.0.4,!=2.1.2,!=2.1.6,>=2.0.1 in c:\\users\\arige\\anaconda3\\envs\\crop_pred\\lib\\site-packages (from matplotlib>=2.2->seaborn) (2.4.7)\n",
      "Requirement already satisfied: python-dateutil>=2.1 in c:\\users\\arige\\anaconda3\\envs\\crop_pred\\lib\\site-packages (from matplotlib>=2.2->seaborn) (2.8.1)\n",
      "Requirement already satisfied: six in c:\\users\\arige\\anaconda3\\envs\\crop_pred\\lib\\site-packages (from cycler>=0.10->matplotlib>=2.2->seaborn) (1.15.0)\n",
      "Requirement already satisfied: pytz>=2017.2 in c:\\users\\arige\\anaconda3\\envs\\crop_pred\\lib\\site-packages (from pandas>=0.23->seaborn) (2021.1)\n",
      "Installing collected packages: numpy, seaborn\n",
      "  Attempting uninstall: numpy\n",
      "    Found existing installation: numpy 1.14.2\n",
      "    Uninstalling numpy-1.14.2:\n",
      "      Successfully uninstalled numpy-1.14.2\n",
      "Successfully installed numpy-1.19.5 seaborn-0.11.2\n",
      "Note: you may need to restart the kernel to use updated packages.\n"
     ]
    },
    {
     "name": "stderr",
     "output_type": "stream",
     "text": [
      "ERROR: pip's dependency resolver does not currently take into account all the packages that are installed. This behaviour is the source of the following dependency conflicts.\n",
      "tensorflow 1.14.0 requires google-pasta>=0.1.6, which is not installed.\n"
     ]
    }
   ],
   "source": [
    "pip install seaborn"
   ]
  },
  {
   "cell_type": "code",
   "execution_count": 1,
   "id": "suffering-drinking",
   "metadata": {
    "execution": {
     "iopub.execute_input": "2021-10-24T06:10:32.488606Z",
     "iopub.status.busy": "2021-10-24T06:10:32.487656Z",
     "iopub.status.idle": "2021-10-24T06:10:34.018253Z",
     "shell.execute_reply": "2021-10-24T06:10:34.017392Z",
     "shell.execute_reply.started": "2021-10-24T06:06:31.526129Z"
    },
    "id": "UH1Bgx49msIs",
    "papermill": {
     "duration": 1.569623,
     "end_time": "2021-10-24T06:10:34.018463",
     "exception": false,
     "start_time": "2021-10-24T06:10:32.448840",
     "status": "completed"
    },
    "tags": []
   },
   "outputs": [
    {
     "ename": "ModuleNotFoundError",
     "evalue": "No module named 'seaborn'",
     "output_type": "error",
     "traceback": [
      "\u001b[1;31m---------------------------------------------------------------------------\u001b[0m",
      "\u001b[1;31mModuleNotFoundError\u001b[0m                       Traceback (most recent call last)",
      "\u001b[1;32m<ipython-input-1-9fdc3213e42e>\u001b[0m in \u001b[0;36m<module>\u001b[1;34m\u001b[0m\n\u001b[0;32m      1\u001b[0m \u001b[1;32mimport\u001b[0m \u001b[0mnumpy\u001b[0m \u001b[1;32mas\u001b[0m \u001b[0mnp\u001b[0m\u001b[1;33m\u001b[0m\u001b[0m\n\u001b[0;32m      2\u001b[0m \u001b[1;32mimport\u001b[0m \u001b[0mpandas\u001b[0m \u001b[1;32mas\u001b[0m \u001b[0mpd\u001b[0m\u001b[1;33m\u001b[0m\u001b[0m\n\u001b[1;32m----> 3\u001b[1;33m \u001b[1;32mimport\u001b[0m \u001b[0mseaborn\u001b[0m \u001b[1;32mas\u001b[0m \u001b[0msns\u001b[0m\u001b[1;33m\u001b[0m\u001b[0m\n\u001b[0m\u001b[0;32m      4\u001b[0m \u001b[1;32mfrom\u001b[0m \u001b[0msklearn\u001b[0m\u001b[1;33m.\u001b[0m\u001b[0mmodel_selection\u001b[0m \u001b[1;32mimport\u001b[0m \u001b[0mtrain_test_split\u001b[0m\u001b[1;33m\u001b[0m\u001b[0m\n\u001b[0;32m      5\u001b[0m \u001b[1;32mfrom\u001b[0m \u001b[0msklearn\u001b[0m \u001b[1;32mimport\u001b[0m \u001b[0msvm\u001b[0m\u001b[1;33m\u001b[0m\u001b[0m\n",
      "\u001b[1;31mModuleNotFoundError\u001b[0m: No module named 'seaborn'"
     ]
    }
   ],
   "source": [
    "import numpy as np\n",
    "import pandas as pd\n",
    "import seaborn as sns\n",
    "from sklearn.model_selection import train_test_split\n",
    "from sklearn import svm\n",
    "from sklearn.metrics import accuracy_score"
   ]
  },
  {
   "cell_type": "markdown",
   "id": "promising-grain",
   "metadata": {
    "id": "6Gvrw17q_zY5",
    "papermill": {
     "duration": 0.027976,
     "end_time": "2021-10-24T06:10:34.078659",
     "exception": false,
     "start_time": "2021-10-24T06:10:34.050683",
     "status": "completed"
    },
    "tags": []
   },
   "source": [
    "**EDA**\n",
    "\n",
    "Loan Status Dataset: https://www.kaggle.com/ninzaami/loan-predication"
   ]
  },
  {
   "cell_type": "code",
   "execution_count": 3,
   "id": "inner-transcript",
   "metadata": {
    "execution": {
     "iopub.execute_input": "2021-10-24T06:10:34.139320Z",
     "iopub.status.busy": "2021-10-24T06:10:34.138560Z",
     "iopub.status.idle": "2021-10-24T06:10:34.167175Z",
     "shell.execute_reply": "2021-10-24T06:10:34.167743Z",
     "shell.execute_reply.started": "2021-10-24T06:06:32.946208Z"
    },
    "id": "pdl2oWTy_xs4",
    "papermill": {
     "duration": 0.061652,
     "end_time": "2021-10-24T06:10:34.167929",
     "exception": false,
     "start_time": "2021-10-24T06:10:34.106277",
     "status": "completed"
    },
    "tags": []
   },
   "outputs": [],
   "source": [
    "# loading the dataset to pandas DataFrame\n",
    "loan_dataset = pd.read_csv('dataset.csv')"
   ]
  },
  {
   "cell_type": "code",
   "execution_count": 4,
   "id": "center-terminal",
   "metadata": {
    "execution": {
     "iopub.execute_input": "2021-10-24T06:10:34.227045Z",
     "iopub.status.busy": "2021-10-24T06:10:34.226374Z",
     "iopub.status.idle": "2021-10-24T06:10:34.259023Z",
     "shell.execute_reply": "2021-10-24T06:10:34.259581Z",
     "shell.execute_reply.started": "2021-10-24T06:06:32.977127Z"
    },
    "id": "7rif01IcAVhj",
    "outputId": "2440952e-fda6-48c4-f881-215497574939",
    "papermill": {
     "duration": 0.06412,
     "end_time": "2021-10-24T06:10:34.259761",
     "exception": false,
     "start_time": "2021-10-24T06:10:34.195641",
     "status": "completed"
    },
    "tags": []
   },
   "outputs": [
    {
     "data": {
      "text/html": [
       "<div>\n",
       "<style scoped>\n",
       "    .dataframe tbody tr th:only-of-type {\n",
       "        vertical-align: middle;\n",
       "    }\n",
       "\n",
       "    .dataframe tbody tr th {\n",
       "        vertical-align: top;\n",
       "    }\n",
       "\n",
       "    .dataframe thead th {\n",
       "        text-align: right;\n",
       "    }\n",
       "</style>\n",
       "<table border=\"1\" class=\"dataframe\">\n",
       "  <thead>\n",
       "    <tr style=\"text-align: right;\">\n",
       "      <th></th>\n",
       "      <th>Loan_ID</th>\n",
       "      <th>Gender</th>\n",
       "      <th>Married</th>\n",
       "      <th>Dependents</th>\n",
       "      <th>Education</th>\n",
       "      <th>Self_Employed</th>\n",
       "      <th>ApplicantIncome</th>\n",
       "      <th>CoapplicantIncome</th>\n",
       "      <th>LoanAmount</th>\n",
       "      <th>Loan_Amount_Term</th>\n",
       "      <th>Credit_History</th>\n",
       "      <th>Property_Area</th>\n",
       "      <th>Loan_Status</th>\n",
       "    </tr>\n",
       "  </thead>\n",
       "  <tbody>\n",
       "    <tr>\n",
       "      <th>0</th>\n",
       "      <td>LP001002</td>\n",
       "      <td>Male</td>\n",
       "      <td>No</td>\n",
       "      <td>0</td>\n",
       "      <td>Graduate</td>\n",
       "      <td>No</td>\n",
       "      <td>5849</td>\n",
       "      <td>0.0</td>\n",
       "      <td>NaN</td>\n",
       "      <td>360.0</td>\n",
       "      <td>1.0</td>\n",
       "      <td>Urban</td>\n",
       "      <td>Y</td>\n",
       "    </tr>\n",
       "    <tr>\n",
       "      <th>1</th>\n",
       "      <td>LP001003</td>\n",
       "      <td>Male</td>\n",
       "      <td>Yes</td>\n",
       "      <td>1</td>\n",
       "      <td>Graduate</td>\n",
       "      <td>No</td>\n",
       "      <td>4583</td>\n",
       "      <td>1508.0</td>\n",
       "      <td>128.0</td>\n",
       "      <td>360.0</td>\n",
       "      <td>1.0</td>\n",
       "      <td>Rural</td>\n",
       "      <td>N</td>\n",
       "    </tr>\n",
       "    <tr>\n",
       "      <th>2</th>\n",
       "      <td>LP001005</td>\n",
       "      <td>Male</td>\n",
       "      <td>Yes</td>\n",
       "      <td>0</td>\n",
       "      <td>Graduate</td>\n",
       "      <td>Yes</td>\n",
       "      <td>3000</td>\n",
       "      <td>0.0</td>\n",
       "      <td>66.0</td>\n",
       "      <td>360.0</td>\n",
       "      <td>1.0</td>\n",
       "      <td>Urban</td>\n",
       "      <td>Y</td>\n",
       "    </tr>\n",
       "    <tr>\n",
       "      <th>3</th>\n",
       "      <td>LP001006</td>\n",
       "      <td>Male</td>\n",
       "      <td>Yes</td>\n",
       "      <td>0</td>\n",
       "      <td>Not Graduate</td>\n",
       "      <td>No</td>\n",
       "      <td>2583</td>\n",
       "      <td>2358.0</td>\n",
       "      <td>120.0</td>\n",
       "      <td>360.0</td>\n",
       "      <td>1.0</td>\n",
       "      <td>Urban</td>\n",
       "      <td>Y</td>\n",
       "    </tr>\n",
       "    <tr>\n",
       "      <th>4</th>\n",
       "      <td>LP001008</td>\n",
       "      <td>Male</td>\n",
       "      <td>No</td>\n",
       "      <td>0</td>\n",
       "      <td>Graduate</td>\n",
       "      <td>No</td>\n",
       "      <td>6000</td>\n",
       "      <td>0.0</td>\n",
       "      <td>141.0</td>\n",
       "      <td>360.0</td>\n",
       "      <td>1.0</td>\n",
       "      <td>Urban</td>\n",
       "      <td>Y</td>\n",
       "    </tr>\n",
       "  </tbody>\n",
       "</table>\n",
       "</div>"
      ],
      "text/plain": [
       "    Loan_ID Gender Married Dependents     Education Self_Employed  \\\n",
       "0  LP001002   Male      No          0      Graduate            No   \n",
       "1  LP001003   Male     Yes          1      Graduate            No   \n",
       "2  LP001005   Male     Yes          0      Graduate           Yes   \n",
       "3  LP001006   Male     Yes          0  Not Graduate            No   \n",
       "4  LP001008   Male      No          0      Graduate            No   \n",
       "\n",
       "   ApplicantIncome  CoapplicantIncome  LoanAmount  Loan_Amount_Term  \\\n",
       "0             5849                0.0         NaN             360.0   \n",
       "1             4583             1508.0       128.0             360.0   \n",
       "2             3000                0.0        66.0             360.0   \n",
       "3             2583             2358.0       120.0             360.0   \n",
       "4             6000                0.0       141.0             360.0   \n",
       "\n",
       "   Credit_History Property_Area Loan_Status  \n",
       "0             1.0         Urban           Y  \n",
       "1             1.0         Rural           N  \n",
       "2             1.0         Urban           Y  \n",
       "3             1.0         Urban           Y  \n",
       "4             1.0         Urban           Y  "
      ]
     },
     "execution_count": 4,
     "metadata": {},
     "output_type": "execute_result"
    }
   ],
   "source": [
    "loan_dataset.head() # printing the first 5 rows of the dataframe"
   ]
  },
  {
   "cell_type": "code",
   "execution_count": 5,
   "id": "necessary-lighting",
   "metadata": {
    "execution": {
     "iopub.execute_input": "2021-10-24T06:10:34.324993Z",
     "iopub.status.busy": "2021-10-24T06:10:34.324308Z",
     "iopub.status.idle": "2021-10-24T06:10:34.326823Z",
     "shell.execute_reply": "2021-10-24T06:10:34.327435Z",
     "shell.execute_reply.started": "2021-10-24T06:06:33.009853Z"
    },
    "id": "cadoapvyAdp7",
    "outputId": "f4b7d8a9-8002-410a-d0b2-56de3659c021",
    "papermill": {
     "duration": 0.03776,
     "end_time": "2021-10-24T06:10:34.327618",
     "exception": false,
     "start_time": "2021-10-24T06:10:34.289858",
     "status": "completed"
    },
    "tags": []
   },
   "outputs": [
    {
     "data": {
      "text/plain": [
       "(614, 13)"
      ]
     },
     "execution_count": 5,
     "metadata": {},
     "output_type": "execute_result"
    }
   ],
   "source": [
    "loan_dataset.shape # number of rows and columns"
   ]
  },
  {
   "cell_type": "code",
   "execution_count": 6,
   "id": "protecting-ranch",
   "metadata": {
    "execution": {
     "iopub.execute_input": "2021-10-24T06:10:34.387937Z",
     "iopub.status.busy": "2021-10-24T06:10:34.387247Z",
     "iopub.status.idle": "2021-10-24T06:10:34.427730Z",
     "shell.execute_reply": "2021-10-24T06:10:34.427038Z",
     "shell.execute_reply.started": "2021-10-24T06:06:33.017817Z"
    },
    "id": "oCNhpj_aBZ8S",
    "outputId": "448af829-ad08-439c-c504-4be75d948c05",
    "papermill": {
     "duration": 0.072185,
     "end_time": "2021-10-24T06:10:34.427878",
     "exception": false,
     "start_time": "2021-10-24T06:10:34.355693",
     "status": "completed"
    },
    "tags": []
   },
   "outputs": [
    {
     "data": {
      "text/html": [
       "<div>\n",
       "<style scoped>\n",
       "    .dataframe tbody tr th:only-of-type {\n",
       "        vertical-align: middle;\n",
       "    }\n",
       "\n",
       "    .dataframe tbody tr th {\n",
       "        vertical-align: top;\n",
       "    }\n",
       "\n",
       "    .dataframe thead th {\n",
       "        text-align: right;\n",
       "    }\n",
       "</style>\n",
       "<table border=\"1\" class=\"dataframe\">\n",
       "  <thead>\n",
       "    <tr style=\"text-align: right;\">\n",
       "      <th></th>\n",
       "      <th>ApplicantIncome</th>\n",
       "      <th>CoapplicantIncome</th>\n",
       "      <th>LoanAmount</th>\n",
       "      <th>Loan_Amount_Term</th>\n",
       "      <th>Credit_History</th>\n",
       "    </tr>\n",
       "  </thead>\n",
       "  <tbody>\n",
       "    <tr>\n",
       "      <th>count</th>\n",
       "      <td>614.000000</td>\n",
       "      <td>614.000000</td>\n",
       "      <td>592.000000</td>\n",
       "      <td>600.00000</td>\n",
       "      <td>564.000000</td>\n",
       "    </tr>\n",
       "    <tr>\n",
       "      <th>mean</th>\n",
       "      <td>5403.459283</td>\n",
       "      <td>1621.245798</td>\n",
       "      <td>146.412162</td>\n",
       "      <td>342.00000</td>\n",
       "      <td>0.842199</td>\n",
       "    </tr>\n",
       "    <tr>\n",
       "      <th>std</th>\n",
       "      <td>6109.041673</td>\n",
       "      <td>2926.248369</td>\n",
       "      <td>85.587325</td>\n",
       "      <td>65.12041</td>\n",
       "      <td>0.364878</td>\n",
       "    </tr>\n",
       "    <tr>\n",
       "      <th>min</th>\n",
       "      <td>150.000000</td>\n",
       "      <td>0.000000</td>\n",
       "      <td>9.000000</td>\n",
       "      <td>12.00000</td>\n",
       "      <td>0.000000</td>\n",
       "    </tr>\n",
       "    <tr>\n",
       "      <th>25%</th>\n",
       "      <td>2877.500000</td>\n",
       "      <td>0.000000</td>\n",
       "      <td>100.000000</td>\n",
       "      <td>360.00000</td>\n",
       "      <td>1.000000</td>\n",
       "    </tr>\n",
       "    <tr>\n",
       "      <th>50%</th>\n",
       "      <td>3812.500000</td>\n",
       "      <td>1188.500000</td>\n",
       "      <td>128.000000</td>\n",
       "      <td>360.00000</td>\n",
       "      <td>1.000000</td>\n",
       "    </tr>\n",
       "    <tr>\n",
       "      <th>75%</th>\n",
       "      <td>5795.000000</td>\n",
       "      <td>2297.250000</td>\n",
       "      <td>168.000000</td>\n",
       "      <td>360.00000</td>\n",
       "      <td>1.000000</td>\n",
       "    </tr>\n",
       "    <tr>\n",
       "      <th>max</th>\n",
       "      <td>81000.000000</td>\n",
       "      <td>41667.000000</td>\n",
       "      <td>700.000000</td>\n",
       "      <td>480.00000</td>\n",
       "      <td>1.000000</td>\n",
       "    </tr>\n",
       "  </tbody>\n",
       "</table>\n",
       "</div>"
      ],
      "text/plain": [
       "       ApplicantIncome  CoapplicantIncome  LoanAmount  Loan_Amount_Term  \\\n",
       "count       614.000000         614.000000  592.000000         600.00000   \n",
       "mean       5403.459283        1621.245798  146.412162         342.00000   \n",
       "std        6109.041673        2926.248369   85.587325          65.12041   \n",
       "min         150.000000           0.000000    9.000000          12.00000   \n",
       "25%        2877.500000           0.000000  100.000000         360.00000   \n",
       "50%        3812.500000        1188.500000  128.000000         360.00000   \n",
       "75%        5795.000000        2297.250000  168.000000         360.00000   \n",
       "max       81000.000000       41667.000000  700.000000         480.00000   \n",
       "\n",
       "       Credit_History  \n",
       "count      564.000000  \n",
       "mean         0.842199  \n",
       "std          0.364878  \n",
       "min          0.000000  \n",
       "25%          1.000000  \n",
       "50%          1.000000  \n",
       "75%          1.000000  \n",
       "max          1.000000  "
      ]
     },
     "execution_count": 6,
     "metadata": {},
     "output_type": "execute_result"
    }
   ],
   "source": [
    "loan_dataset.describe() # statistical measures"
   ]
  },
  {
   "cell_type": "code",
   "execution_count": 7,
   "id": "continuous-demonstration",
   "metadata": {
    "execution": {
     "iopub.execute_input": "2021-10-24T06:10:34.497220Z",
     "iopub.status.busy": "2021-10-24T06:10:34.489820Z",
     "iopub.status.idle": "2021-10-24T06:10:34.500796Z",
     "shell.execute_reply": "2021-10-24T06:10:34.501432Z",
     "shell.execute_reply.started": "2021-10-24T06:06:33.066185Z"
    },
    "id": "8Xp06TZ3Bt6S",
    "outputId": "2ab2382e-e609-472a-b516-eab535fa5d6d",
    "papermill": {
     "duration": 0.043988,
     "end_time": "2021-10-24T06:10:34.501643",
     "exception": false,
     "start_time": "2021-10-24T06:10:34.457655",
     "status": "completed"
    },
    "tags": []
   },
   "outputs": [
    {
     "data": {
      "text/plain": [
       "Loan_ID               0\n",
       "Gender               13\n",
       "Married               3\n",
       "Dependents           15\n",
       "Education             0\n",
       "Self_Employed        32\n",
       "ApplicantIncome       0\n",
       "CoapplicantIncome     0\n",
       "LoanAmount           22\n",
       "Loan_Amount_Term     14\n",
       "Credit_History       50\n",
       "Property_Area         0\n",
       "Loan_Status           0\n",
       "dtype: int64"
      ]
     },
     "execution_count": 7,
     "metadata": {},
     "output_type": "execute_result"
    }
   ],
   "source": [
    "loan_dataset.isnull().sum() # number of missing values in each column"
   ]
  },
  {
   "cell_type": "code",
   "execution_count": 8,
   "id": "above-constitutional",
   "metadata": {
    "execution": {
     "iopub.execute_input": "2021-10-24T06:10:34.563999Z",
     "iopub.status.busy": "2021-10-24T06:10:34.563245Z",
     "iopub.status.idle": "2021-10-24T06:10:34.571544Z",
     "shell.execute_reply": "2021-10-24T06:10:34.572052Z",
     "shell.execute_reply.started": "2021-10-24T06:06:33.080672Z"
    },
    "id": "7vhG70dhCMHv",
    "papermill": {
     "duration": 0.041575,
     "end_time": "2021-10-24T06:10:34.572262",
     "exception": false,
     "start_time": "2021-10-24T06:10:34.530687",
     "status": "completed"
    },
    "tags": []
   },
   "outputs": [],
   "source": [
    "loan_dataset = loan_dataset.dropna() # dropping the missing values"
   ]
  },
  {
   "cell_type": "code",
   "execution_count": 9,
   "id": "initial-content",
   "metadata": {
    "execution": {
     "iopub.execute_input": "2021-10-24T06:10:34.637949Z",
     "iopub.status.busy": "2021-10-24T06:10:34.637284Z",
     "iopub.status.idle": "2021-10-24T06:10:34.645898Z",
     "shell.execute_reply": "2021-10-24T06:10:34.646576Z",
     "shell.execute_reply.started": "2021-10-24T06:06:33.091971Z"
    },
    "id": "BMZ1CK97CqhY",
    "outputId": "f98b2594-ff21-4fe1-fa88-337fd9fe28d1",
    "papermill": {
     "duration": 0.045351,
     "end_time": "2021-10-24T06:10:34.646770",
     "exception": false,
     "start_time": "2021-10-24T06:10:34.601419",
     "status": "completed"
    },
    "tags": []
   },
   "outputs": [
    {
     "data": {
      "text/plain": [
       "Loan_ID              0\n",
       "Gender               0\n",
       "Married              0\n",
       "Dependents           0\n",
       "Education            0\n",
       "Self_Employed        0\n",
       "ApplicantIncome      0\n",
       "CoapplicantIncome    0\n",
       "LoanAmount           0\n",
       "Loan_Amount_Term     0\n",
       "Credit_History       0\n",
       "Property_Area        0\n",
       "Loan_Status          0\n",
       "dtype: int64"
      ]
     },
     "execution_count": 9,
     "metadata": {},
     "output_type": "execute_result"
    }
   ],
   "source": [
    "loan_dataset.isnull().sum() # number of missing values in each column"
   ]
  },
  {
   "cell_type": "code",
   "execution_count": 10,
   "id": "advance-vision",
   "metadata": {
    "execution": {
     "iopub.execute_input": "2021-10-24T06:10:34.716471Z",
     "iopub.status.busy": "2021-10-24T06:10:34.710770Z",
     "iopub.status.idle": "2021-10-24T06:10:34.719278Z",
     "shell.execute_reply": "2021-10-24T06:10:34.719819Z",
     "shell.execute_reply.started": "2021-10-24T06:06:33.105827Z"
    },
    "id": "F2j_jN_XCs6G",
    "papermill": {
     "duration": 0.043622,
     "end_time": "2021-10-24T06:10:34.720026",
     "exception": false,
     "start_time": "2021-10-24T06:10:34.676404",
     "status": "completed"
    },
    "tags": []
   },
   "outputs": [],
   "source": [
    "loan_dataset.replace({\"Loan_Status\":{'N':0,'Y':1}},inplace=True) # label encoding"
   ]
  },
  {
   "cell_type": "code",
   "execution_count": 11,
   "id": "reliable-testing",
   "metadata": {
    "execution": {
     "iopub.execute_input": "2021-10-24T06:10:34.801407Z",
     "iopub.status.busy": "2021-10-24T06:10:34.800682Z",
     "iopub.status.idle": "2021-10-24T06:10:34.805272Z",
     "shell.execute_reply": "2021-10-24T06:10:34.804693Z",
     "shell.execute_reply.started": "2021-10-24T06:06:33.118282Z"
    },
    "id": "MEbW0kjeDWLD",
    "outputId": "de02ea04-8f91-4a25-e267-22e69ba035c4",
    "papermill": {
     "duration": 0.055276,
     "end_time": "2021-10-24T06:10:34.805440",
     "exception": false,
     "start_time": "2021-10-24T06:10:34.750164",
     "status": "completed"
    },
    "tags": []
   },
   "outputs": [
    {
     "data": {
      "text/html": [
       "<div>\n",
       "<style scoped>\n",
       "    .dataframe tbody tr th:only-of-type {\n",
       "        vertical-align: middle;\n",
       "    }\n",
       "\n",
       "    .dataframe tbody tr th {\n",
       "        vertical-align: top;\n",
       "    }\n",
       "\n",
       "    .dataframe thead th {\n",
       "        text-align: right;\n",
       "    }\n",
       "</style>\n",
       "<table border=\"1\" class=\"dataframe\">\n",
       "  <thead>\n",
       "    <tr style=\"text-align: right;\">\n",
       "      <th></th>\n",
       "      <th>Loan_ID</th>\n",
       "      <th>Gender</th>\n",
       "      <th>Married</th>\n",
       "      <th>Dependents</th>\n",
       "      <th>Education</th>\n",
       "      <th>Self_Employed</th>\n",
       "      <th>ApplicantIncome</th>\n",
       "      <th>CoapplicantIncome</th>\n",
       "      <th>LoanAmount</th>\n",
       "      <th>Loan_Amount_Term</th>\n",
       "      <th>Credit_History</th>\n",
       "      <th>Property_Area</th>\n",
       "      <th>Loan_Status</th>\n",
       "    </tr>\n",
       "  </thead>\n",
       "  <tbody>\n",
       "    <tr>\n",
       "      <th>1</th>\n",
       "      <td>LP001003</td>\n",
       "      <td>Male</td>\n",
       "      <td>Yes</td>\n",
       "      <td>1</td>\n",
       "      <td>Graduate</td>\n",
       "      <td>No</td>\n",
       "      <td>4583</td>\n",
       "      <td>1508.0</td>\n",
       "      <td>128.0</td>\n",
       "      <td>360.0</td>\n",
       "      <td>1.0</td>\n",
       "      <td>Rural</td>\n",
       "      <td>0</td>\n",
       "    </tr>\n",
       "    <tr>\n",
       "      <th>2</th>\n",
       "      <td>LP001005</td>\n",
       "      <td>Male</td>\n",
       "      <td>Yes</td>\n",
       "      <td>0</td>\n",
       "      <td>Graduate</td>\n",
       "      <td>Yes</td>\n",
       "      <td>3000</td>\n",
       "      <td>0.0</td>\n",
       "      <td>66.0</td>\n",
       "      <td>360.0</td>\n",
       "      <td>1.0</td>\n",
       "      <td>Urban</td>\n",
       "      <td>1</td>\n",
       "    </tr>\n",
       "    <tr>\n",
       "      <th>3</th>\n",
       "      <td>LP001006</td>\n",
       "      <td>Male</td>\n",
       "      <td>Yes</td>\n",
       "      <td>0</td>\n",
       "      <td>Not Graduate</td>\n",
       "      <td>No</td>\n",
       "      <td>2583</td>\n",
       "      <td>2358.0</td>\n",
       "      <td>120.0</td>\n",
       "      <td>360.0</td>\n",
       "      <td>1.0</td>\n",
       "      <td>Urban</td>\n",
       "      <td>1</td>\n",
       "    </tr>\n",
       "    <tr>\n",
       "      <th>4</th>\n",
       "      <td>LP001008</td>\n",
       "      <td>Male</td>\n",
       "      <td>No</td>\n",
       "      <td>0</td>\n",
       "      <td>Graduate</td>\n",
       "      <td>No</td>\n",
       "      <td>6000</td>\n",
       "      <td>0.0</td>\n",
       "      <td>141.0</td>\n",
       "      <td>360.0</td>\n",
       "      <td>1.0</td>\n",
       "      <td>Urban</td>\n",
       "      <td>1</td>\n",
       "    </tr>\n",
       "    <tr>\n",
       "      <th>5</th>\n",
       "      <td>LP001011</td>\n",
       "      <td>Male</td>\n",
       "      <td>Yes</td>\n",
       "      <td>2</td>\n",
       "      <td>Graduate</td>\n",
       "      <td>Yes</td>\n",
       "      <td>5417</td>\n",
       "      <td>4196.0</td>\n",
       "      <td>267.0</td>\n",
       "      <td>360.0</td>\n",
       "      <td>1.0</td>\n",
       "      <td>Urban</td>\n",
       "      <td>1</td>\n",
       "    </tr>\n",
       "  </tbody>\n",
       "</table>\n",
       "</div>"
      ],
      "text/plain": [
       "    Loan_ID Gender Married Dependents     Education Self_Employed  \\\n",
       "1  LP001003   Male     Yes          1      Graduate            No   \n",
       "2  LP001005   Male     Yes          0      Graduate           Yes   \n",
       "3  LP001006   Male     Yes          0  Not Graduate            No   \n",
       "4  LP001008   Male      No          0      Graduate            No   \n",
       "5  LP001011   Male     Yes          2      Graduate           Yes   \n",
       "\n",
       "   ApplicantIncome  CoapplicantIncome  LoanAmount  Loan_Amount_Term  \\\n",
       "1             4583             1508.0       128.0             360.0   \n",
       "2             3000                0.0        66.0             360.0   \n",
       "3             2583             2358.0       120.0             360.0   \n",
       "4             6000                0.0       141.0             360.0   \n",
       "5             5417             4196.0       267.0             360.0   \n",
       "\n",
       "   Credit_History Property_Area  Loan_Status  \n",
       "1             1.0         Rural            0  \n",
       "2             1.0         Urban            1  \n",
       "3             1.0         Urban            1  \n",
       "4             1.0         Urban            1  \n",
       "5             1.0         Urban            1  "
      ]
     },
     "execution_count": 11,
     "metadata": {},
     "output_type": "execute_result"
    }
   ],
   "source": [
    "loan_dataset.head() # printing the first 5 rows of the dataframe"
   ]
  },
  {
   "cell_type": "code",
   "execution_count": 12,
   "id": "ethical-easter",
   "metadata": {
    "execution": {
     "iopub.execute_input": "2021-10-24T06:10:34.875342Z",
     "iopub.status.busy": "2021-10-24T06:10:34.872211Z",
     "iopub.status.idle": "2021-10-24T06:10:34.879928Z",
     "shell.execute_reply": "2021-10-24T06:10:34.879288Z",
     "shell.execute_reply.started": "2021-10-24T06:06:33.143495Z"
    },
    "id": "mDDPZ9AcDaAL",
    "outputId": "db3f316c-e12c-454c-fea0-eb0f6024e7aa",
    "papermill": {
     "duration": 0.044437,
     "end_time": "2021-10-24T06:10:34.880133",
     "exception": false,
     "start_time": "2021-10-24T06:10:34.835696",
     "status": "completed"
    },
    "tags": []
   },
   "outputs": [
    {
     "data": {
      "text/plain": [
       "Dependents\n",
       "0     274\n",
       "2      85\n",
       "1      80\n",
       "3+     41\n",
       "Name: count, dtype: int64"
      ]
     },
     "execution_count": 12,
     "metadata": {},
     "output_type": "execute_result"
    }
   ],
   "source": [
    "loan_dataset['Dependents'].value_counts() # Dependent column values"
   ]
  },
  {
   "cell_type": "code",
   "execution_count": 13,
   "id": "palestinian-turning",
   "metadata": {
    "execution": {
     "iopub.execute_input": "2021-10-24T06:10:34.949118Z",
     "iopub.status.busy": "2021-10-24T06:10:34.948233Z",
     "iopub.status.idle": "2021-10-24T06:10:34.953914Z",
     "shell.execute_reply": "2021-10-24T06:10:34.953279Z",
     "shell.execute_reply.started": "2021-10-24T06:06:33.157407Z"
    },
    "id": "WkE_kBJDEBbA",
    "papermill": {
     "duration": 0.042776,
     "end_time": "2021-10-24T06:10:34.954106",
     "exception": false,
     "start_time": "2021-10-24T06:10:34.911330",
     "status": "completed"
    },
    "tags": []
   },
   "outputs": [],
   "source": [
    "loan_dataset = loan_dataset.replace(to_replace='3+', value=3) # replacing the value of 3+ to 3"
   ]
  },
  {
   "cell_type": "code",
   "execution_count": 14,
   "id": "efficient-conversion",
   "metadata": {
    "execution": {
     "iopub.execute_input": "2021-10-24T06:10:35.021229Z",
     "iopub.status.busy": "2021-10-24T06:10:35.020223Z",
     "iopub.status.idle": "2021-10-24T06:10:35.027162Z",
     "shell.execute_reply": "2021-10-24T06:10:35.027699Z",
     "shell.execute_reply.started": "2021-10-24T06:06:33.166195Z"
    },
    "id": "VWxrpy59Eg5m",
    "outputId": "6ccbb7ad-b688-45ee-c30d-3f102e0177df",
    "papermill": {
     "duration": 0.042559,
     "end_time": "2021-10-24T06:10:35.027907",
     "exception": false,
     "start_time": "2021-10-24T06:10:34.985348",
     "status": "completed"
    },
    "tags": []
   },
   "outputs": [
    {
     "data": {
      "text/plain": [
       "Dependents\n",
       "0    274\n",
       "2     85\n",
       "1     80\n",
       "3     41\n",
       "Name: count, dtype: int64"
      ]
     },
     "execution_count": 14,
     "metadata": {},
     "output_type": "execute_result"
    }
   ],
   "source": [
    "# dependent values\n",
    "loan_dataset['Dependents'].value_counts()"
   ]
  },
  {
   "cell_type": "code",
   "execution_count": 15,
   "id": "swedish-wallet",
   "metadata": {
    "execution": {
     "iopub.execute_input": "2021-10-24T06:10:35.095395Z",
     "iopub.status.busy": "2021-10-24T06:10:35.094681Z",
     "iopub.status.idle": "2021-10-24T06:10:35.368569Z",
     "shell.execute_reply": "2021-10-24T06:10:35.367964Z",
     "shell.execute_reply.started": "2021-10-24T06:06:33.181964Z"
    },
    "id": "dnujp9ffErKo",
    "outputId": "6e91e4a0-e189-4568-ce7f-9da065b64fdf",
    "papermill": {
     "duration": 0.309078,
     "end_time": "2021-10-24T06:10:35.368715",
     "exception": false,
     "start_time": "2021-10-24T06:10:35.059637",
     "status": "completed"
    },
    "tags": []
   },
   "outputs": [
    {
     "name": "stderr",
     "output_type": "stream",
     "text": [
      "c:\\Users\\arige\\anaconda3\\lib\\site-packages\\seaborn\\_oldcore.py:1498: FutureWarning: is_categorical_dtype is deprecated and will be removed in a future version. Use isinstance(dtype, CategoricalDtype) instead\n",
      "  if pd.api.types.is_categorical_dtype(vector):\n",
      "c:\\Users\\arige\\anaconda3\\lib\\site-packages\\seaborn\\_oldcore.py:1498: FutureWarning: is_categorical_dtype is deprecated and will be removed in a future version. Use isinstance(dtype, CategoricalDtype) instead\n",
      "  if pd.api.types.is_categorical_dtype(vector):\n",
      "c:\\Users\\arige\\anaconda3\\lib\\site-packages\\seaborn\\_oldcore.py:1498: FutureWarning: is_categorical_dtype is deprecated and will be removed in a future version. Use isinstance(dtype, CategoricalDtype) instead\n",
      "  if pd.api.types.is_categorical_dtype(vector):\n",
      "c:\\Users\\arige\\anaconda3\\lib\\site-packages\\seaborn\\_oldcore.py:1498: FutureWarning: is_categorical_dtype is deprecated and will be removed in a future version. Use isinstance(dtype, CategoricalDtype) instead\n",
      "  if pd.api.types.is_categorical_dtype(vector):\n"
     ]
    },
    {
     "data": {
      "text/plain": [
       "<Axes: xlabel='Education', ylabel='count'>"
      ]
     },
     "execution_count": 15,
     "metadata": {},
     "output_type": "execute_result"
    },
    {
     "data": {
      "image/png": "[encoded data removed]",
      "text/plain": [
       "<Figure size 640x480 with 1 Axes>"
      ]
     },
     "metadata": {},
     "output_type": "display_data"
    }
   ],
   "source": [
    "# education & Loan Status\n",
    "sns.countplot(x='Education',hue='Loan_Status',data=loan_dataset)"
   ]
  },
  {
   "cell_type": "code",
   "execution_count": 16,
   "id": "million-mining",
   "metadata": {
    "execution": {
     "iopub.execute_input": "2021-10-24T06:10:35.458841Z",
     "iopub.status.busy": "2021-10-24T06:10:35.456645Z",
     "iopub.status.idle": "2021-10-24T06:10:35.664887Z",
     "shell.execute_reply": "2021-10-24T06:10:35.664326Z",
     "shell.execute_reply.started": "2021-10-24T06:06:33.470611Z"
    },
    "id": "89aJ1gxoFUCF",
    "outputId": "c81f1c40-6990-4891-c158-10c66c6b0a8f",
    "papermill": {
     "duration": 0.264178,
     "end_time": "2021-10-24T06:10:35.665044",
     "exception": false,
     "start_time": "2021-10-24T06:10:35.400866",
     "status": "completed"
    },
    "tags": []
   },
   "outputs": [
    {
     "name": "stderr",
     "output_type": "stream",
     "text": [
      "c:\\Users\\arige\\anaconda3\\lib\\site-packages\\seaborn\\_oldcore.py:1498: FutureWarning: is_categorical_dtype is deprecated and will be removed in a future version. Use isinstance(dtype, CategoricalDtype) instead\n",
      "  if pd.api.types.is_categorical_dtype(vector):\n",
      "c:\\Users\\arige\\anaconda3\\lib\\site-packages\\seaborn\\_oldcore.py:1498: FutureWarning: is_categorical_dtype is deprecated and will be removed in a future version. Use isinstance(dtype, CategoricalDtype) instead\n",
      "  if pd.api.types.is_categorical_dtype(vector):\n",
      "c:\\Users\\arige\\anaconda3\\lib\\site-packages\\seaborn\\_oldcore.py:1498: FutureWarning: is_categorical_dtype is deprecated and will be removed in a future version. Use isinstance(dtype, CategoricalDtype) instead\n",
      "  if pd.api.types.is_categorical_dtype(vector):\n",
      "c:\\Users\\arige\\anaconda3\\lib\\site-packages\\seaborn\\_oldcore.py:1498: FutureWarning: is_categorical_dtype is deprecated and will be removed in a future version. Use isinstance(dtype, CategoricalDtype) instead\n",
      "  if pd.api.types.is_categorical_dtype(vector):\n"
     ]
    },
    {
     "data": {
      "text/plain": [
       "<Axes: xlabel='Married', ylabel='count'>"
      ]
     },
     "execution_count": 16,
     "metadata": {},
     "output_type": "execute_result"
    },
    {
     "data": {
      "image/png": "[encoded data removed]",
      "text/plain": [
       "<Figure size 640x480 with 1 Axes>"
      ]
     },
     "metadata": {},
     "output_type": "display_data"
    }
   ],
   "source": [
    "# marital status & Loan Status\n",
    "sns.countplot(x='Married',hue='Loan_Status',data=loan_dataset)"
   ]
  },
  {
   "cell_type": "code",
   "execution_count": 17,
   "id": "peaceful-health",
   "metadata": {
    "execution": {
     "iopub.execute_input": "2021-10-24T06:10:35.737620Z",
     "iopub.status.busy": "2021-10-24T06:10:35.736612Z",
     "iopub.status.idle": "2021-10-24T06:10:35.749564Z",
     "shell.execute_reply": "2021-10-24T06:10:35.750043Z",
     "shell.execute_reply.started": "2021-10-24T06:06:33.711829Z"
    },
    "id": "Flk0RHzEGWXw",
    "papermill": {
     "duration": 0.052306,
     "end_time": "2021-10-24T06:10:35.750257",
     "exception": false,
     "start_time": "2021-10-24T06:10:35.697951",
     "status": "completed"
    },
    "tags": []
   },
   "outputs": [],
   "source": [
    "# convert categorical columns to numerical values\n",
    "loan_dataset.replace({'Married':{'No':0,'Yes':1},'Gender':{'Male':1,'Female':0},'Self_Employed':{'No':0,'Yes':1},\n",
    "                      'Property_Area':{'Rural':0,'Semiurban':1,'Urban':2},'Education':{'Graduate':1,'Not Graduate':0}},inplace=True)"
   ]
  },
  {
   "cell_type": "code",
   "execution_count": 18,
   "id": "abandoned-rating",
   "metadata": {
    "execution": {
     "iopub.execute_input": "2021-10-24T06:10:35.821217Z",
     "iopub.status.busy": "2021-10-24T06:10:35.819871Z",
     "iopub.status.idle": "2021-10-24T06:10:35.838968Z",
     "shell.execute_reply": "2021-10-24T06:10:35.839513Z",
     "shell.execute_reply.started": "2021-10-24T06:06:33.728561Z"
    },
    "id": "CqrryB06IQ3R",
    "outputId": "1e8d0eaa-20c2-40d3-a22a-38677018f7f1",
    "papermill": {
     "duration": 0.056106,
     "end_time": "2021-10-24T06:10:35.839756",
     "exception": false,
     "start_time": "2021-10-24T06:10:35.783650",
     "status": "completed"
    },
    "tags": []
   },
   "outputs": [
    {
     "data": {
      "text/html": [
       "<div>\n",
       "<style scoped>\n",
       "    .dataframe tbody tr th:only-of-type {\n",
       "        vertical-align: middle;\n",
       "    }\n",
       "\n",
       "    .dataframe tbody tr th {\n",
       "        vertical-align: top;\n",
       "    }\n",
       "\n",
       "    .dataframe thead th {\n",
       "        text-align: right;\n",
       "    }\n",
       "</style>\n",
       "<table border=\"1\" class=\"dataframe\">\n",
       "  <thead>\n",
       "    <tr style=\"text-align: right;\">\n",
       "      <th></th>\n",
       "      <th>Loan_ID</th>\n",
       "      <th>Gender</th>\n",
       "      <th>Married</th>\n",
       "      <th>Dependents</th>\n",
       "      <th>Education</th>\n",
       "      <th>Self_Employed</th>\n",
       "      <th>ApplicantIncome</th>\n",
       "      <th>CoapplicantIncome</th>\n",
       "      <th>LoanAmount</th>\n",
       "      <th>Loan_Amount_Term</th>\n",
       "      <th>Credit_History</th>\n",
       "      <th>Property_Area</th>\n",
       "      <th>Loan_Status</th>\n",
       "    </tr>\n",
       "  </thead>\n",
       "  <tbody>\n",
       "    <tr>\n",
       "      <th>1</th>\n",
       "      <td>LP001003</td>\n",
       "      <td>1</td>\n",
       "      <td>1</td>\n",
       "      <td>1</td>\n",
       "      <td>1</td>\n",
       "      <td>0</td>\n",
       "      <td>4583</td>\n",
       "      <td>1508.0</td>\n",
       "      <td>128.0</td>\n",
       "      <td>360.0</td>\n",
       "      <td>1.0</td>\n",
       "      <td>0</td>\n",
       "      <td>0</td>\n",
       "    </tr>\n",
       "    <tr>\n",
       "      <th>2</th>\n",
       "      <td>LP001005</td>\n",
       "      <td>1</td>\n",
       "      <td>1</td>\n",
       "      <td>0</td>\n",
       "      <td>1</td>\n",
       "      <td>1</td>\n",
       "      <td>3000</td>\n",
       "      <td>0.0</td>\n",
       "      <td>66.0</td>\n",
       "      <td>360.0</td>\n",
       "      <td>1.0</td>\n",
       "      <td>2</td>\n",
       "      <td>1</td>\n",
       "    </tr>\n",
       "    <tr>\n",
       "      <th>3</th>\n",
       "      <td>LP001006</td>\n",
       "      <td>1</td>\n",
       "      <td>1</td>\n",
       "      <td>0</td>\n",
       "      <td>0</td>\n",
       "      <td>0</td>\n",
       "      <td>2583</td>\n",
       "      <td>2358.0</td>\n",
       "      <td>120.0</td>\n",
       "      <td>360.0</td>\n",
       "      <td>1.0</td>\n",
       "      <td>2</td>\n",
       "      <td>1</td>\n",
       "    </tr>\n",
       "    <tr>\n",
       "      <th>4</th>\n",
       "      <td>LP001008</td>\n",
       "      <td>1</td>\n",
       "      <td>0</td>\n",
       "      <td>0</td>\n",
       "      <td>1</td>\n",
       "      <td>0</td>\n",
       "      <td>6000</td>\n",
       "      <td>0.0</td>\n",
       "      <td>141.0</td>\n",
       "      <td>360.0</td>\n",
       "      <td>1.0</td>\n",
       "      <td>2</td>\n",
       "      <td>1</td>\n",
       "    </tr>\n",
       "    <tr>\n",
       "      <th>5</th>\n",
       "      <td>LP001011</td>\n",
       "      <td>1</td>\n",
       "      <td>1</td>\n",
       "      <td>2</td>\n",
       "      <td>1</td>\n",
       "      <td>1</td>\n",
       "      <td>5417</td>\n",
       "      <td>4196.0</td>\n",
       "      <td>267.0</td>\n",
       "      <td>360.0</td>\n",
       "      <td>1.0</td>\n",
       "      <td>2</td>\n",
       "      <td>1</td>\n",
       "    </tr>\n",
       "  </tbody>\n",
       "</table>\n",
       "</div>"
      ],
      "text/plain": [
       "    Loan_ID  Gender  Married Dependents  Education  Self_Employed  \\\n",
       "1  LP001003       1        1          1          1              0   \n",
       "2  LP001005       1        1          0          1              1   \n",
       "3  LP001006       1        1          0          0              0   \n",
       "4  LP001008       1        0          0          1              0   \n",
       "5  LP001011       1        1          2          1              1   \n",
       "\n",
       "   ApplicantIncome  CoapplicantIncome  LoanAmount  Loan_Amount_Term  \\\n",
       "1             4583             1508.0       128.0             360.0   \n",
       "2             3000                0.0        66.0             360.0   \n",
       "3             2583             2358.0       120.0             360.0   \n",
       "4             6000                0.0       141.0             360.0   \n",
       "5             5417             4196.0       267.0             360.0   \n",
       "\n",
       "   Credit_History  Property_Area  Loan_Status  \n",
       "1             1.0              0            0  \n",
       "2             1.0              2            1  \n",
       "3             1.0              2            1  \n",
       "4             1.0              2            1  \n",
       "5             1.0              2            1  "
      ]
     },
     "execution_count": 18,
     "metadata": {},
     "output_type": "execute_result"
    }
   ],
   "source": [
    "loan_dataset.head()"
   ]
  },
  {
   "cell_type": "code",
   "execution_count": 19,
   "id": "weighted-tissue",
   "metadata": {
    "execution": {
     "iopub.execute_input": "2021-10-24T06:10:35.917969Z",
     "iopub.status.busy": "2021-10-24T06:10:35.913013Z",
     "iopub.status.idle": "2021-10-24T06:10:35.921236Z",
     "shell.execute_reply": "2021-10-24T06:10:35.920589Z",
     "shell.execute_reply.started": "2021-10-24T06:06:33.754285Z"
    },
    "id": "jF5D9a3aIUn5",
    "papermill": {
     "duration": 0.046965,
     "end_time": "2021-10-24T06:10:35.921414",
     "exception": false,
     "start_time": "2021-10-24T06:10:35.874449",
     "status": "completed"
    },
    "tags": []
   },
   "outputs": [],
   "source": [
    "# separating the data and label\n",
    "X = loan_dataset.drop(columns=['Loan_ID','Loan_Status'],axis=1)\n",
    "Y = loan_dataset['Loan_Status']"
   ]
  },
  {
   "cell_type": "code",
   "execution_count": 20,
   "id": "dimensional-consensus",
   "metadata": {
    "execution": {
     "iopub.execute_input": "2021-10-24T06:10:36.007350Z",
     "iopub.status.busy": "2021-10-24T06:10:36.006575Z",
     "iopub.status.idle": "2021-10-24T06:10:36.010826Z",
     "shell.execute_reply": "2021-10-24T06:10:36.011400Z",
     "shell.execute_reply.started": "2021-10-24T06:06:33.764350Z"
    },
    "id": "b-jNlYt-JIbs",
    "outputId": "cdb2aa78-5cd1-4490-f54c-72845f532382",
    "papermill": {
     "duration": 0.05524,
     "end_time": "2021-10-24T06:10:36.011622",
     "exception": false,
     "start_time": "2021-10-24T06:10:35.956382",
     "status": "completed"
    },
    "tags": []
   },
   "outputs": [
    {
     "name": "stdout",
     "output_type": "stream",
     "text": [
      "     Gender  Married Dependents  Education  Self_Employed  ApplicantIncome  \\\n",
      "1         1        1          1          1              0             4583   \n",
      "2         1        1          0          1              1             3000   \n",
      "3         1        1          0          0              0             2583   \n",
      "4         1        0          0          1              0             6000   \n",
      "5         1        1          2          1              1             5417   \n",
      "..      ...      ...        ...        ...            ...              ...   \n",
      "609       0        0          0          1              0             2900   \n",
      "610       1        1          3          1              0             4106   \n",
      "611       1        1          1          1              0             8072   \n",
      "612       1        1          2          1              0             7583   \n",
      "613       0        0          0          1              1             4583   \n",
      "\n",
      "     CoapplicantIncome  LoanAmount  Loan_Amount_Term  Credit_History  \\\n",
      "1               1508.0       128.0             360.0             1.0   \n",
      "2                  0.0        66.0             360.0             1.0   \n",
      "3               2358.0       120.0             360.0             1.0   \n",
      "4                  0.0       141.0             360.0             1.0   \n",
      "5               4196.0       267.0             360.0             1.0   \n",
      "..                 ...         ...               ...             ...   \n",
      "609                0.0        71.0             360.0             1.0   \n",
      "610                0.0        40.0             180.0             1.0   \n",
      "611              240.0       253.0             360.0             1.0   \n",
      "612                0.0       187.0             360.0             1.0   \n",
      "613                0.0       133.0             360.0             0.0   \n",
      "\n",
      "     Property_Area  \n",
      "1                0  \n",
      "2                2  \n",
      "3                2  \n",
      "4                2  \n",
      "5                2  \n",
      "..             ...  \n",
      "609              0  \n",
      "610              0  \n",
      "611              2  \n",
      "612              2  \n",
      "613              1  \n",
      "\n",
      "[480 rows x 11 columns]\n",
      "1      0\n",
      "2      1\n",
      "3      1\n",
      "4      1\n",
      "5      1\n",
      "      ..\n",
      "609    1\n",
      "610    1\n",
      "611    1\n",
      "612    1\n",
      "613    0\n",
      "Name: Loan_Status, Length: 480, dtype: int64\n"
     ]
    }
   ],
   "source": [
    "print(X)\n",
    "print(Y)"
   ]
  },
  {
   "cell_type": "markdown",
   "id": "convertible-creativity",
   "metadata": {
    "id": "iOjT0xv2JVfO",
    "papermill": {
     "duration": 0.034354,
     "end_time": "2021-10-24T06:10:36.081336",
     "exception": false,
     "start_time": "2021-10-24T06:10:36.046982",
     "status": "completed"
    },
    "tags": []
   },
   "source": [
    "Train Test Split"
   ]
  },
  {
   "cell_type": "code",
   "execution_count": 21,
   "id": "liked-snowboard",
   "metadata": {
    "execution": {
     "iopub.execute_input": "2021-10-24T06:10:36.154554Z",
     "iopub.status.busy": "2021-10-24T06:10:36.153889Z",
     "iopub.status.idle": "2021-10-24T06:10:36.163152Z",
     "shell.execute_reply": "2021-10-24T06:10:36.163818Z",
     "shell.execute_reply.started": "2021-10-24T06:06:33.788081Z"
    },
    "id": "p84EJrhcJKQM",
    "papermill": {
     "duration": 0.047385,
     "end_time": "2021-10-24T06:10:36.164024",
     "exception": false,
     "start_time": "2021-10-24T06:10:36.116639",
     "status": "completed"
    },
    "tags": []
   },
   "outputs": [],
   "source": [
    "X_train, X_test,Y_train,Y_test = train_test_split(X,Y,test_size=0.3,stratify=Y,random_state=42)"
   ]
  },
  {
   "cell_type": "code",
   "execution_count": 22,
   "id": "revolutionary-flight",
   "metadata": {
    "execution": {
     "iopub.execute_input": "2021-10-24T06:10:36.239458Z",
     "iopub.status.busy": "2021-10-24T06:10:36.238630Z",
     "iopub.status.idle": "2021-10-24T06:10:36.241585Z",
     "shell.execute_reply": "2021-10-24T06:10:36.242146Z",
     "shell.execute_reply.started": "2021-10-24T06:06:33.802612Z"
    },
    "id": "x7pYOaRCKKG3",
    "outputId": "bb48741d-f15c-486c-ef3c-d2722bbb82ef",
    "papermill": {
     "duration": 0.043612,
     "end_time": "2021-10-24T06:10:36.242361",
     "exception": false,
     "start_time": "2021-10-24T06:10:36.198749",
     "status": "completed"
    },
    "tags": []
   },
   "outputs": [
    {
     "name": "stdout",
     "output_type": "stream",
     "text": [
      "(480, 11) (336, 11) (144, 11)\n"
     ]
    }
   ],
   "source": [
    "print(X.shape, X_train.shape, X_test.shape)"
   ]
  },
  {
   "cell_type": "markdown",
   "id": "acute-rebate",
   "metadata": {
    "id": "fOobHS7iKZ4z",
    "papermill": {
     "duration": 0.03449,
     "end_time": "2021-10-24T06:10:36.312002",
     "exception": false,
     "start_time": "2021-10-24T06:10:36.277512",
     "status": "completed"
    },
    "tags": []
   },
   "source": [
    "**Training the model:**\n",
    "\n",
    "Support Vector Machine Model"
   ]
  },
  {
   "cell_type": "code",
   "execution_count": 23,
   "id": "dedicated-nation",
   "metadata": {
    "execution": {
     "iopub.execute_input": "2021-10-24T06:10:36.385908Z",
     "iopub.status.busy": "2021-10-24T06:10:36.385152Z",
     "iopub.status.idle": "2021-10-24T06:10:36.388852Z",
     "shell.execute_reply": "2021-10-24T06:10:36.389504Z",
     "shell.execute_reply.started": "2021-10-24T06:06:33.812130Z"
    },
    "id": "5O54v0U-KPy6",
    "papermill": {
     "duration": 0.042209,
     "end_time": "2021-10-24T06:10:36.389705",
     "exception": false,
     "start_time": "2021-10-24T06:10:36.347496",
     "status": "completed"
    },
    "tags": []
   },
   "outputs": [],
   "source": [
    "classifier = svm.SVC(kernel='linear')"
   ]
  },
  {
   "cell_type": "code",
   "execution_count": 24,
   "id": "unlikely-mediterranean",
   "metadata": {
    "execution": {
     "iopub.execute_input": "2021-10-24T06:10:36.463135Z",
     "iopub.status.busy": "2021-10-24T06:10:36.462449Z",
     "iopub.status.idle": "2021-10-24T06:12:33.882507Z",
     "shell.execute_reply": "2021-10-24T06:12:33.883062Z",
     "shell.execute_reply.started": "2021-10-24T06:06:33.825970Z"
    },
    "id": "H3HfJbRgKtId",
    "outputId": "d0def908-25ac-4b38-8560-431a370bce5b",
    "papermill": {
     "duration": 117.458304,
     "end_time": "2021-10-24T06:12:33.883302",
     "exception": false,
     "start_time": "2021-10-24T06:10:36.424998",
     "status": "completed"
    },
    "tags": []
   },
   "outputs": [
    {
     "data": {
      "text/html": [
       "<style>#sk-container-id-1 {color: black;}#sk-container-id-1 pre{padding: 0;}#sk-container-id-1 div.sk-toggleable {background-color: white;}#sk-container-id-1 label.sk-toggleable__label {cursor: pointer;display: block;width: 100%;margin-bottom: 0;padding: 0.3em;box-sizing: border-box;text-align: center;}#sk-container-id-1 label.sk-toggleable__label-arrow:before {content: \"▸\";float: left;margin-right: 0.25em;color: #696969;}#sk-container-id-1 label.sk-toggleable__label-arrow:hover:before {color: black;}#sk-container-id-1 div.sk-estimator:hover label.sk-toggleable__label-arrow:before {color: black;}#sk-container-id-1 div.sk-toggleable__content {max-height: 0;max-width: 0;overflow: hidden;text-align: left;background-color: #f0f8ff;}#sk-container-id-1 div.sk-toggleable__content pre {margin: 0.2em;color: black;border-radius: 0.25em;background-color: #f0f8ff;}#sk-container-id-1 input.sk-toggleable__control:checked~div.sk-toggleable__content {max-height: 200px;max-width: 100%;overflow: auto;}#sk-container-id-1 input.sk-toggleable__control:checked~label.sk-toggleable__label-arrow:before {content: \"▾\";}#sk-container-id-1 div.sk-estimator input.sk-toggleable__control:checked~label.sk-toggleable__label {background-color: #d4ebff;}#sk-container-id-1 div.sk-label input.sk-toggleable__control:checked~label.sk-toggleable__label {background-color: #d4ebff;}#sk-container-id-1 input.sk-hidden--visually {border: 0;clip: rect(1px 1px 1px 1px);clip: rect(1px, 1px, 1px, 1px);height: 1px;margin: -1px;overflow: hidden;padding: 0;position: absolute;width: 1px;}#sk-container-id-1 div.sk-estimator {font-family: monospace;background-color: #f0f8ff;border: 1px dotted black;border-radius: 0.25em;box-sizing: border-box;margin-bottom: 0.5em;}#sk-container-id-1 div.sk-estimator:hover {background-color: #d4ebff;}#sk-container-id-1 div.sk-parallel-item::after {content: \"\";width: 100%;border-bottom: 1px solid gray;flex-grow: 1;}#sk-container-id-1 div.sk-label:hover label.sk-toggleable__label {background-color: #d4ebff;}#sk-container-id-1 div.sk-serial::before {content: \"\";position: absolute;border-left: 1px solid gray;box-sizing: border-box;top: 0;bottom: 0;left: 50%;z-index: 0;}#sk-container-id-1 div.sk-serial {display: flex;flex-direction: column;align-items: center;background-color: white;padding-right: 0.2em;padding-left: 0.2em;position: relative;}#sk-container-id-1 div.sk-item {position: relative;z-index: 1;}#sk-container-id-1 div.sk-parallel {display: flex;align-items: stretch;justify-content: center;background-color: white;position: relative;}#sk-container-id-1 div.sk-item::before, #sk-container-id-1 div.sk-parallel-item::before {content: \"\";position: absolute;border-left: 1px solid gray;box-sizing: border-box;top: 0;bottom: 0;left: 50%;z-index: -1;}#sk-container-id-1 div.sk-parallel-item {display: flex;flex-direction: column;z-index: 1;position: relative;background-color: white;}#sk-container-id-1 div.sk-parallel-item:first-child::after {align-self: flex-end;width: 50%;}#sk-container-id-1 div.sk-parallel-item:last-child::after {align-self: flex-start;width: 50%;}#sk-container-id-1 div.sk-parallel-item:only-child::after {width: 0;}#sk-container-id-1 div.sk-dashed-wrapped {border: 1px dashed gray;margin: 0 0.4em 0.5em 0.4em;box-sizing: border-box;padding-bottom: 0.4em;background-color: white;}#sk-container-id-1 div.sk-label label {font-family: monospace;font-weight: bold;display: inline-block;line-height: 1.2em;}#sk-container-id-1 div.sk-label-container {text-align: center;}#sk-container-id-1 div.sk-container {/* jupyter's `normalize.less` sets `[hidden] { display: none; }` but bootstrap.min.css set `[hidden] { display: none !important; }` so we also need the `!important` here to be able to override the default hidden behavior on the sphinx rendered scikit-learn.org. See: https://github.com/scikit-learn/scikit-learn/issues/21755 */display: inline-block !important;position: relative;}#sk-container-id-1 div.sk-text-repr-fallback {display: none;}</style><div id=\"sk-container-id-1\" class=\"sk-top-container\"><div class=\"sk-text-repr-fallback\"><pre>SVC(kernel=&#x27;linear&#x27;)</pre><b>In a Jupyter environment, please rerun this cell to show the HTML representation or trust the notebook. <br />On GitHub, the HTML representation is unable to render, please try loading this page with nbviewer.org.</b></div><div class=\"sk-container\" hidden><div class=\"sk-item\"><div class=\"sk-estimator sk-toggleable\"><input class=\"sk-toggleable__control sk-hidden--visually\" id=\"sk-estimator-id-1\" type=\"checkbox\" checked><label for=\"sk-estimator-id-1\" class=\"sk-toggleable__label sk-toggleable__label-arrow\">SVC</label><div class=\"sk-toggleable__content\"><pre>SVC(kernel=&#x27;linear&#x27;)</pre></div></div></div></div></div>"
      ],
      "text/plain": [
       "SVC(kernel='linear')"
      ]
     },
     "execution_count": 24,
     "metadata": {},
     "output_type": "execute_result"
    }
   ],
   "source": [
    "#training the support Vector Macine model\n",
    "classifier.fit(X_train,Y_train)"
   ]
  },
  {
   "cell_type": "markdown",
   "id": "hidden-switzerland",
   "metadata": {
    "id": "7CuMq2KKLdXs",
    "papermill": {
     "duration": 0.03504,
     "end_time": "2021-10-24T06:12:33.953471",
     "exception": false,
     "start_time": "2021-10-24T06:12:33.918431",
     "status": "completed"
    },
    "tags": []
   },
   "source": [
    "**Model Evaluation**"
   ]
  },
  {
   "cell_type": "code",
   "execution_count": 25,
   "id": "finnish-deadline",
   "metadata": {
    "execution": {
     "iopub.execute_input": "2021-10-24T06:12:34.029211Z",
     "iopub.status.busy": "2021-10-24T06:12:34.028370Z",
     "iopub.status.idle": "2021-10-24T06:12:34.037589Z",
     "shell.execute_reply": "2021-10-24T06:12:34.036969Z",
     "shell.execute_reply.started": "2021-10-24T06:08:31.627785Z"
    },
    "id": "xZneuWAIK4Qu",
    "papermill": {
     "duration": 0.047971,
     "end_time": "2021-10-24T06:12:34.037767",
     "exception": false,
     "start_time": "2021-10-24T06:12:33.989796",
     "status": "completed"
    },
    "tags": []
   },
   "outputs": [],
   "source": [
    "# accuracy score on training data\n",
    "X_train_prediction = classifier.predict(X_train)\n",
    "training_data_accuray = accuracy_score(X_train_prediction,Y_train)"
   ]
  },
  {
   "cell_type": "code",
   "execution_count": 26,
   "id": "respective-market",
   "metadata": {
    "execution": {
     "iopub.execute_input": "2021-10-24T06:12:34.114910Z",
     "iopub.status.busy": "2021-10-24T06:12:34.114160Z",
     "iopub.status.idle": "2021-10-24T06:12:34.118623Z",
     "shell.execute_reply": "2021-10-24T06:12:34.119214Z",
     "shell.execute_reply.started": "2021-10-24T06:08:31.637680Z"
    },
    "id": "av8yolB9MCtG",
    "outputId": "de3a933e-cfec-4cc0-907d-fd2dd812b762",
    "papermill": {
     "duration": 0.045803,
     "end_time": "2021-10-24T06:12:34.119422",
     "exception": false,
     "start_time": "2021-10-24T06:12:34.073619",
     "status": "completed"
    },
    "tags": []
   },
   "outputs": [
    {
     "name": "stdout",
     "output_type": "stream",
     "text": [
      "Accuracy on training data :  0.7797619047619048\n"
     ]
    }
   ],
   "source": [
    "print('Accuracy on training data : ', training_data_accuray)"
   ]
  },
  {
   "cell_type": "code",
   "execution_count": 27,
   "id": "cognitive-respondent",
   "metadata": {
    "execution": {
     "iopub.execute_input": "2021-10-24T06:12:34.198520Z",
     "iopub.status.busy": "2021-10-24T06:12:34.194531Z",
     "iopub.status.idle": "2021-10-24T06:12:34.202277Z",
     "shell.execute_reply": "2021-10-24T06:12:34.202852Z",
     "shell.execute_reply.started": "2021-10-24T06:08:31.652849Z"
    },
    "id": "gVGYbc2uMLYn",
    "papermill": {
     "duration": 0.047855,
     "end_time": "2021-10-24T06:12:34.203068",
     "exception": false,
     "start_time": "2021-10-24T06:12:34.155213",
     "status": "completed"
    },
    "tags": []
   },
   "outputs": [],
   "source": [
    "# accuracy score on training data\n",
    "X_test_prediction = classifier.predict(X_test)\n",
    "test_data_accuray = accuracy_score(X_test_prediction,Y_test)"
   ]
  },
  {
   "cell_type": "code",
   "execution_count": 28,
   "id": "underlying-survey",
   "metadata": {
    "execution": {
     "iopub.execute_input": "2021-10-24T06:12:34.280582Z",
     "iopub.status.busy": "2021-10-24T06:12:34.279853Z",
     "iopub.status.idle": "2021-10-24T06:12:34.283020Z",
     "shell.execute_reply": "2021-10-24T06:12:34.283547Z",
     "shell.execute_reply.started": "2021-10-24T06:08:31.670861Z"
    },
    "id": "aou4ZalSMiyn",
    "outputId": "395edae2-f52c-4842-a062-7556f5bf8c8e",
    "papermill": {
     "duration": 0.044867,
     "end_time": "2021-10-24T06:12:34.283749",
     "exception": false,
     "start_time": "2021-10-24T06:12:34.238882",
     "status": "completed"
    },
    "tags": []
   },
   "outputs": [
    {
     "name": "stdout",
     "output_type": "stream",
     "text": [
      "Accuracy on test data :  0.8333333333333334\n"
     ]
    }
   ],
   "source": [
    "print('Accuracy on test data : ', test_data_accuray)"
   ]
  },
  {
   "cell_type": "markdown",
   "id": "relative-raleigh",
   "metadata": {
    "id": "-8qYe7OsNRlk",
    "papermill": {
     "duration": 0.035566,
     "end_time": "2021-10-24T06:12:34.355397",
     "exception": false,
     "start_time": "2021-10-24T06:12:34.319831",
     "status": "completed"
    },
    "tags": []
   },
   "source": [
    "**Making a predictive system**"
   ]
  },
  {
   "cell_type": "code",
   "execution_count": 29,
   "id": "phantom-maple",
   "metadata": {
    "execution": {
     "iopub.execute_input": "2021-10-24T06:12:34.435840Z",
     "iopub.status.busy": "2021-10-24T06:12:34.430940Z",
     "iopub.status.idle": "2021-10-24T06:12:34.439521Z",
     "shell.execute_reply": "2021-10-24T06:12:34.440056Z",
     "shell.execute_reply.started": "2021-10-24T06:08:31.685382Z"
    },
    "id": "cjoWNhtGMniu",
    "outputId": "3143dea6-3150-4767-a6c7-674406edddc5",
    "papermill": {
     "duration": 0.048852,
     "end_time": "2021-10-24T06:12:34.440279",
     "exception": false,
     "start_time": "2021-10-24T06:12:34.391427",
     "status": "completed"
    },
    "tags": []
   },
   "outputs": [
    {
     "name": "stdout",
     "output_type": "stream",
     "text": [
      "[1]\n",
      "\n",
      "The person is eligible for loan\n"
     ]
    },
    {
     "name": "stderr",
     "output_type": "stream",
     "text": [
      "c:\\Users\\arige\\anaconda3\\lib\\site-packages\\sklearn\\base.py:464: UserWarning: X does not have valid feature names, but SVC was fitted with feature names\n",
      "  warnings.warn(\n"
     ]
    }
   ],
   "source": [
    "input_data = (1,1,0,1,1,3000,0.0,66.0,360.0,1.0,2)\n",
    "\n",
    "input_data_as_numpy_array = np.asarray(input_data) # changing the input_data to numpy array\n",
    "\n",
    "input_data_reshaped = input_data_as_numpy_array.reshape(1,-1) # reshape the array \n",
    "\n",
    "prediction = classifier.predict(input_data_reshaped)\n",
    "print(prediction)\n",
    "\n",
    "if (prediction[0] == 0):\n",
    "  print('The person is not eligible for loan')\n",
    "else:\n",
    "  print('\\nThe person is eligible for loan')"
   ]
  },
  {
   "cell_type": "markdown",
   "id": "casual-short",
   "metadata": {},
   "source": [
    "## Importing the model into a joblib package\n"
   ]
  },
  {
   "cell_type": "code",
   "execution_count": 30,
   "id": "abandoned-mount",
   "metadata": {},
   "outputs": [],
   "source": [
    "import joblib"
   ]
  },
  {
   "cell_type": "code",
   "execution_count": 31,
   "id": "nervous-security",
   "metadata": {},
   "outputs": [
    {
     "data": {
      "text/plain": [
       "['model.pkl']"
      ]
     },
     "execution_count": 31,
     "metadata": {},
     "output_type": "execute_result"
    }
   ],
   "source": [
    "# Save the model to disk\n",
    "joblib.dump(classifier, 'model.pkl')"
   ]
  }
 ],
 "metadata": {
  "kernelspec": {
   "display_name": "Python 3",
   "language": "python",
   "name": "python3"
  },
  "language_info": {
   "codemirror_mode": {
    "name": "ipython",
    "version": 3
   },
   "file_extension": ".py",
   "mimetype": "text/x-python",
   "name": "python",
   "nbconvert_exporter": "python",
   "pygments_lexer": "ipython3",
   "version": "3.6.3"
  },
  "papermill": {
   "default_parameters": {},
   "duration": 133.702269,
   "end_time": "2021-10-24T06:12:35.465670",
   "environment_variables": {},
   "exception": null,
   "input_path": "__notebook__.ipynb",
   "output_path": "__notebook__.ipynb",
   "parameters": {},
   "start_time": "2021-10-24T06:10:21.763401",
   "version": "2.3.3"
  }
 },
 "nbformat": 4,
 "nbformat_minor": 5
}
